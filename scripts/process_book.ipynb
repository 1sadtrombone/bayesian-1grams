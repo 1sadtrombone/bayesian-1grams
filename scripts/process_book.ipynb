{
 "cells": [
  {
   "cell_type": "code",
   "execution_count": 59,
   "metadata": {},
   "outputs": [],
   "source": [
    "import numpy as np\n",
    "import pandas as pd\n",
    "from collections import Counter"
   ]
  },
  {
   "cell_type": "code",
   "execution_count": 89,
   "metadata": {},
   "outputs": [
    {
     "name": "stdout",
     "output_type": "stream",
     "text": [
      "0\n",
      "1\n",
      "2\n",
      "3\n",
      "4\n",
      "5\n",
      "6\n",
      "7\n",
      "8\n",
      "9\n"
     ]
    }
   ],
   "source": [
    "# make a list of all unique words\n",
    "outfile = \"../ngram_data/py_dict_1800.txt\"\n",
    "bad_cases = 0\n",
    "for i in range(10):\n",
    "    infile = f\"../ngram_data/googlebooks-eng-1M-1gram-20090715-occonly{i}.csv\"\n",
    "    raw = pd.read_csv(infile, delimiter='\\t', names=[\"1gram\", \"year\", \"occ\"], \n",
    "                      converters={\"1gram\":lambda x: str(x), \"year\":lambda x: int(x), \"occ\":lambda x: int(x)},\n",
    "                      engine='c', quoting=3, encoding='latin-1')\n",
    "    \n",
    "    inds = np.where(raw[\"1gram\"] != np.roll(raw[\"1gram\"], 1))[0][1:]\n",
    "    \n",
    "    unique_words = np.array(raw[\"1gram\"])[inds]\n",
    "    \n",
    "    with open(outfile, 'a') as f:\n",
    "        for word in unique_words:\n",
    "            try:\n",
    "                f.write(word.encode('latin-1').decode('utf-8'))\n",
    "                f.write('\\n')\n",
    "            except AttributeError:\n",
    "                #print(word)\n",
    "                pass\n",
    "        \n",
    "    print(i)"
   ]
  },
  {
   "cell_type": "code",
   "execution_count": 144,
   "metadata": {},
   "outputs": [
    {
     "name": "stdout",
     "output_type": "stream",
     "text": [
      "0\n"
     ]
    }
   ],
   "source": [
    "database_words = 3194820\n",
    "print(words.size - database_words)"
   ]
  },
  {
   "cell_type": "code",
   "execution_count": 140,
   "metadata": {},
   "outputs": [
    {
     "name": "stdout",
     "output_type": "stream",
     "text": [
      "3194820\n"
     ]
    }
   ],
   "source": [
    "dictfile = '../ngram_data/py_dict_1800.txt'\n",
    "\n",
    "with open(dictfile, 'r') as f:\n",
    "    dct = f.read().splitlines()\n",
    "\n",
    "\n",
    "print(np.size(dct))"
   ]
  },
  {
   "cell_type": "code",
   "execution_count": 149,
   "metadata": {},
   "outputs": [
    {
     "data": {
      "text/plain": [
       "'Blazes'"
      ]
     },
     "execution_count": 149,
     "metadata": {},
     "output_type": "execute_result"
    }
   ],
   "source": [
    "dct[43553]"
   ]
  },
  {
   "cell_type": "code",
   "execution_count": 147,
   "metadata": {},
   "outputs": [],
   "source": [
    "bookfile = '../ngram_data/book.txt'\n",
    "\n",
    "with open(bookfile, 'r') as file:\n",
    "    book = file.read().replace('\\n', '')\n",
    "    \n",
    "raw_words = book.split()\n",
    "word_counts = Counter(raw_words)\n",
    "\n",
    "words = np.zeros(np.size(dct))\n",
    "for i, word in enumerate(dct):\n",
    "    words[i] += word_counts[word]\n"
   ]
  },
  {
   "cell_type": "code",
   "execution_count": 148,
   "metadata": {},
   "outputs": [],
   "source": [
    "wordfile = '../ngram_data/words.csv'\n",
    "with open(wordfile, 'w') as f:\n",
    "    np.savetxt(wordfile, words)"
   ]
  },
  {
   "cell_type": "code",
   "execution_count": 120,
   "metadata": {},
   "outputs": [
    {
     "data": {
      "text/plain": [
       "True"
      ]
     },
     "execution_count": 120,
     "metadata": {},
     "output_type": "execute_result"
    }
   ],
   "source": [
    "s = 'flexible'\n",
    "s.encode('latin-1').decode('utf-8') == s"
   ]
  }
 ],
 "metadata": {
  "kernelspec": {
   "display_name": "Python 3",
   "language": "python",
   "name": "python3"
  },
  "language_info": {
   "codemirror_mode": {
    "name": "ipython",
    "version": 3
   },
   "file_extension": ".py",
   "mimetype": "text/x-python",
   "name": "python",
   "nbconvert_exporter": "python",
   "pygments_lexer": "ipython3",
   "version": "3.6.9"
  }
 },
 "nbformat": 4,
 "nbformat_minor": 4
}
