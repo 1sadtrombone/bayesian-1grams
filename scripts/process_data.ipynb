{
 "cells": [
  {
   "cell_type": "code",
   "execution_count": 1,
   "metadata": {},
   "outputs": [],
   "source": [
    "import numpy as np\n",
    "import pandas as pd"
   ]
  },
  {
   "cell_type": "code",
   "execution_count": null,
   "metadata": {},
   "outputs": [],
   "source": [
    "def reformat(infile, outfile):\n",
    "    raw = pd.read_csv(infile, delimiter='\\t', names=[\"1gram\", \"year\", \"occ\"], \n",
    "                      dtype={\"1gram\":str, \"year\":np.uint16, \"occ\":np.uint32})\n",
    "    years = np.array(raw[\"year\"])\n",
    "    counts = np.array(raw[\"occ\"])\n",
    "\n",
    "    # break up each word into its own sub-array\n",
    "    shifted = np.hstack((raw[\"1gram\"][1:], [\"this has a space in it so will match nothing\"]))\n",
    "    inds = np.where(raw[\"1gram\"] != shifted)[0] + 1\n",
    "\n",
    "    years_each_word = np.split(years, inds)\n",
    "    counts_each_word = np.split(counts, inds)\n",
    "    \n",
    "    # fill in zeroes on skipped years\n",
    "    min_year = np.min(years)\n",
    "    max_year = np.max(years)\n",
    "\n",
    "    full_years = np.arange(min_year, max_year+1)\n",
    "\n",
    "    # axes (word, year)\n",
    "    full_counts_each_word = np.zeros((len(years_each_word), full_years.size), dtype=np.int32)\n",
    "\n",
    "    # not ideal, but only have to run this once...\n",
    "    for i in range(len(years_each_word)):\n",
    "        for j in range(len(years_each_word[i])):\n",
    "            ind = np.where(years_each_word[i][j] == full_years)[0][0]\n",
    "            full_counts_each_word[i, ind] += counts_each_word[i][j]\n",
    "            \n",
    "    with open(outfile, 'ba') as f:\n",
    "        np.savetxt(f, full_counts_each_word, fmt='%u', delimiter=',')"
   ]
  },
  {
   "cell_type": "code",
   "execution_count": 16,
   "metadata": {
    "collapsed": true
   },
   "outputs": [
    {
     "name": "stdout",
     "output_type": "stream",
     "text": [
      "0           False\n",
      "1            True\n",
      "2            True\n",
      "3            True\n",
      "4            True\n",
      "            ...  \n",
      "26266990     True\n",
      "26266991     True\n",
      "26266992     True\n",
      "26266993     True\n",
      "26266994     True\n",
      "Name: 1gram, Length: 26266995, dtype: bool\n",
      "0           False\n",
      "1            True\n",
      "2            True\n",
      "3            True\n",
      "4            True\n",
      "            ...  \n",
      "26239146     True\n",
      "26239147     True\n",
      "26239148     True\n",
      "26239149     True\n",
      "26239150     True\n",
      "Name: 1gram, Length: 26239151, dtype: bool\n",
      "0           False\n",
      "1            True\n",
      "2            True\n",
      "3            True\n",
      "4            True\n",
      "            ...  \n",
      "26258455     True\n",
      "26258456     True\n",
      "26258457     True\n",
      "26258458     True\n",
      "26258459     True\n",
      "Name: 1gram, Length: 26258460, dtype: bool\n",
      "0           False\n",
      "1            True\n",
      "2            True\n",
      "3            True\n",
      "4            True\n",
      "            ...  \n",
      "26155437     True\n",
      "26155438     True\n",
      "26155439     True\n",
      "26155440     True\n",
      "26155441     True\n",
      "Name: 1gram, Length: 26155442, dtype: bool\n",
      "0           False\n",
      "1            True\n",
      "2            True\n",
      "3            True\n",
      "4            True\n",
      "            ...  \n",
      "26126868     True\n",
      "26126869     True\n",
      "26126870     True\n",
      "26126871     True\n",
      "26126872     True\n",
      "Name: 1gram, Length: 26126873, dtype: bool\n",
      "0           False\n",
      "1            True\n",
      "2            True\n",
      "3            True\n",
      "4            True\n",
      "            ...  \n",
      "26197454     True\n",
      "26197455     True\n",
      "26197456     True\n",
      "26197457     True\n",
      "26197458     True\n",
      "Name: 1gram, Length: 26197459, dtype: bool\n",
      "0           False\n",
      "1            True\n",
      "2            True\n",
      "3            True\n",
      "4            True\n",
      "            ...  \n",
      "26131440     True\n",
      "26131441     True\n",
      "26131442     True\n",
      "26131443     True\n",
      "26131444     True\n",
      "Name: 1gram, Length: 26131445, dtype: bool\n"
     ]
    },
    {
     "ename": "ParserError",
     "evalue": "Error tokenizing data. C error: EOF inside string starting at row 100187",
     "output_type": "error",
     "traceback": [
      "\u001b[0;31m---------------------------------------------------------------------------\u001b[0m",
      "\u001b[0;31mParserError\u001b[0m                               Traceback (most recent call last)",
      "\u001b[0;32m<ipython-input-16-d79861c329fa>\u001b[0m in \u001b[0;36m<module>\u001b[0;34m\u001b[0m\n\u001b[1;32m      2\u001b[0m     \u001b[0mname\u001b[0m \u001b[0;34m=\u001b[0m \u001b[0;34mf\"../ngram_data/googlebooks-eng-1M-1gram-20090715-occonly{i}.csv\"\u001b[0m\u001b[0;34m\u001b[0m\u001b[0;34m\u001b[0m\u001b[0m\n\u001b[1;32m      3\u001b[0m     raw = pd.read_csv(name, delimiter='\\t', names=[\"1gram\", \"year\", \"occ\"], \n\u001b[0;32m----> 4\u001b[0;31m                       dtype={\"1gram\":str, \"year\":np.uint16, \"occ\":np.uint32})\n\u001b[0m\u001b[1;32m      5\u001b[0m     \u001b[0mprint\u001b[0m\u001b[0;34m(\u001b[0m\u001b[0mraw\u001b[0m\u001b[0;34m[\u001b[0m\u001b[0;34m\"1gram\"\u001b[0m\u001b[0;34m]\u001b[0m \u001b[0;34m==\u001b[0m \u001b[0mnp\u001b[0m\u001b[0;34m.\u001b[0m\u001b[0mhstack\u001b[0m\u001b[0;34m(\u001b[0m\u001b[0;34m(\u001b[0m\u001b[0;34m[\u001b[0m\u001b[0;32mTrue\u001b[0m\u001b[0;34m]\u001b[0m\u001b[0;34m,\u001b[0m \u001b[0mraw\u001b[0m\u001b[0;34m[\u001b[0m\u001b[0;34m\"1gram\"\u001b[0m\u001b[0;34m]\u001b[0m\u001b[0;34m[\u001b[0m\u001b[0;36m1\u001b[0m\u001b[0;34m:\u001b[0m\u001b[0;34m]\u001b[0m\u001b[0;34m)\u001b[0m\u001b[0;34m)\u001b[0m\u001b[0;34m)\u001b[0m\u001b[0;34m\u001b[0m\u001b[0;34m\u001b[0m\u001b[0m\n",
      "\u001b[0;32m~/.local/lib/python3.6/site-packages/pandas/io/parsers.py\u001b[0m in \u001b[0;36mparser_f\u001b[0;34m(filepath_or_buffer, sep, delimiter, header, names, index_col, usecols, squeeze, prefix, mangle_dupe_cols, dtype, engine, converters, true_values, false_values, skipinitialspace, skiprows, skipfooter, nrows, na_values, keep_default_na, na_filter, verbose, skip_blank_lines, parse_dates, infer_datetime_format, keep_date_col, date_parser, dayfirst, cache_dates, iterator, chunksize, compression, thousands, decimal, lineterminator, quotechar, quoting, doublequote, escapechar, comment, encoding, dialect, error_bad_lines, warn_bad_lines, delim_whitespace, low_memory, memory_map, float_precision)\u001b[0m\n\u001b[1;32m    674\u001b[0m         )\n\u001b[1;32m    675\u001b[0m \u001b[0;34m\u001b[0m\u001b[0m\n\u001b[0;32m--> 676\u001b[0;31m         \u001b[0;32mreturn\u001b[0m \u001b[0m_read\u001b[0m\u001b[0;34m(\u001b[0m\u001b[0mfilepath_or_buffer\u001b[0m\u001b[0;34m,\u001b[0m \u001b[0mkwds\u001b[0m\u001b[0;34m)\u001b[0m\u001b[0;34m\u001b[0m\u001b[0;34m\u001b[0m\u001b[0m\n\u001b[0m\u001b[1;32m    677\u001b[0m \u001b[0;34m\u001b[0m\u001b[0m\n\u001b[1;32m    678\u001b[0m     \u001b[0mparser_f\u001b[0m\u001b[0;34m.\u001b[0m\u001b[0m__name__\u001b[0m \u001b[0;34m=\u001b[0m \u001b[0mname\u001b[0m\u001b[0;34m\u001b[0m\u001b[0;34m\u001b[0m\u001b[0m\n",
      "\u001b[0;32m~/.local/lib/python3.6/site-packages/pandas/io/parsers.py\u001b[0m in \u001b[0;36m_read\u001b[0;34m(filepath_or_buffer, kwds)\u001b[0m\n\u001b[1;32m    452\u001b[0m \u001b[0;34m\u001b[0m\u001b[0m\n\u001b[1;32m    453\u001b[0m     \u001b[0;32mtry\u001b[0m\u001b[0;34m:\u001b[0m\u001b[0;34m\u001b[0m\u001b[0;34m\u001b[0m\u001b[0m\n\u001b[0;32m--> 454\u001b[0;31m         \u001b[0mdata\u001b[0m \u001b[0;34m=\u001b[0m \u001b[0mparser\u001b[0m\u001b[0;34m.\u001b[0m\u001b[0mread\u001b[0m\u001b[0;34m(\u001b[0m\u001b[0mnrows\u001b[0m\u001b[0;34m)\u001b[0m\u001b[0;34m\u001b[0m\u001b[0;34m\u001b[0m\u001b[0m\n\u001b[0m\u001b[1;32m    455\u001b[0m     \u001b[0;32mfinally\u001b[0m\u001b[0;34m:\u001b[0m\u001b[0;34m\u001b[0m\u001b[0;34m\u001b[0m\u001b[0m\n\u001b[1;32m    456\u001b[0m         \u001b[0mparser\u001b[0m\u001b[0;34m.\u001b[0m\u001b[0mclose\u001b[0m\u001b[0;34m(\u001b[0m\u001b[0;34m)\u001b[0m\u001b[0;34m\u001b[0m\u001b[0;34m\u001b[0m\u001b[0m\n",
      "\u001b[0;32m~/.local/lib/python3.6/site-packages/pandas/io/parsers.py\u001b[0m in \u001b[0;36mread\u001b[0;34m(self, nrows)\u001b[0m\n\u001b[1;32m   1131\u001b[0m     \u001b[0;32mdef\u001b[0m \u001b[0mread\u001b[0m\u001b[0;34m(\u001b[0m\u001b[0mself\u001b[0m\u001b[0;34m,\u001b[0m \u001b[0mnrows\u001b[0m\u001b[0;34m=\u001b[0m\u001b[0;32mNone\u001b[0m\u001b[0;34m)\u001b[0m\u001b[0;34m:\u001b[0m\u001b[0;34m\u001b[0m\u001b[0;34m\u001b[0m\u001b[0m\n\u001b[1;32m   1132\u001b[0m         \u001b[0mnrows\u001b[0m \u001b[0;34m=\u001b[0m \u001b[0m_validate_integer\u001b[0m\u001b[0;34m(\u001b[0m\u001b[0;34m\"nrows\"\u001b[0m\u001b[0;34m,\u001b[0m \u001b[0mnrows\u001b[0m\u001b[0;34m)\u001b[0m\u001b[0;34m\u001b[0m\u001b[0;34m\u001b[0m\u001b[0m\n\u001b[0;32m-> 1133\u001b[0;31m         \u001b[0mret\u001b[0m \u001b[0;34m=\u001b[0m \u001b[0mself\u001b[0m\u001b[0;34m.\u001b[0m\u001b[0m_engine\u001b[0m\u001b[0;34m.\u001b[0m\u001b[0mread\u001b[0m\u001b[0;34m(\u001b[0m\u001b[0mnrows\u001b[0m\u001b[0;34m)\u001b[0m\u001b[0;34m\u001b[0m\u001b[0;34m\u001b[0m\u001b[0m\n\u001b[0m\u001b[1;32m   1134\u001b[0m \u001b[0;34m\u001b[0m\u001b[0m\n\u001b[1;32m   1135\u001b[0m         \u001b[0;31m# May alter columns / col_dict\u001b[0m\u001b[0;34m\u001b[0m\u001b[0;34m\u001b[0m\u001b[0;34m\u001b[0m\u001b[0m\n",
      "\u001b[0;32m~/.local/lib/python3.6/site-packages/pandas/io/parsers.py\u001b[0m in \u001b[0;36mread\u001b[0;34m(self, nrows)\u001b[0m\n\u001b[1;32m   2035\u001b[0m     \u001b[0;32mdef\u001b[0m \u001b[0mread\u001b[0m\u001b[0;34m(\u001b[0m\u001b[0mself\u001b[0m\u001b[0;34m,\u001b[0m \u001b[0mnrows\u001b[0m\u001b[0;34m=\u001b[0m\u001b[0;32mNone\u001b[0m\u001b[0;34m)\u001b[0m\u001b[0;34m:\u001b[0m\u001b[0;34m\u001b[0m\u001b[0;34m\u001b[0m\u001b[0m\n\u001b[1;32m   2036\u001b[0m         \u001b[0;32mtry\u001b[0m\u001b[0;34m:\u001b[0m\u001b[0;34m\u001b[0m\u001b[0;34m\u001b[0m\u001b[0m\n\u001b[0;32m-> 2037\u001b[0;31m             \u001b[0mdata\u001b[0m \u001b[0;34m=\u001b[0m \u001b[0mself\u001b[0m\u001b[0;34m.\u001b[0m\u001b[0m_reader\u001b[0m\u001b[0;34m.\u001b[0m\u001b[0mread\u001b[0m\u001b[0;34m(\u001b[0m\u001b[0mnrows\u001b[0m\u001b[0;34m)\u001b[0m\u001b[0;34m\u001b[0m\u001b[0;34m\u001b[0m\u001b[0m\n\u001b[0m\u001b[1;32m   2038\u001b[0m         \u001b[0;32mexcept\u001b[0m \u001b[0mStopIteration\u001b[0m\u001b[0;34m:\u001b[0m\u001b[0;34m\u001b[0m\u001b[0;34m\u001b[0m\u001b[0m\n\u001b[1;32m   2039\u001b[0m             \u001b[0;32mif\u001b[0m \u001b[0mself\u001b[0m\u001b[0;34m.\u001b[0m\u001b[0m_first_chunk\u001b[0m\u001b[0;34m:\u001b[0m\u001b[0;34m\u001b[0m\u001b[0;34m\u001b[0m\u001b[0m\n",
      "\u001b[0;32mpandas/_libs/parsers.pyx\u001b[0m in \u001b[0;36mpandas._libs.parsers.TextReader.read\u001b[0;34m()\u001b[0m\n",
      "\u001b[0;32mpandas/_libs/parsers.pyx\u001b[0m in \u001b[0;36mpandas._libs.parsers.TextReader._read_low_memory\u001b[0;34m()\u001b[0m\n",
      "\u001b[0;32mpandas/_libs/parsers.pyx\u001b[0m in \u001b[0;36mpandas._libs.parsers.TextReader._read_rows\u001b[0;34m()\u001b[0m\n",
      "\u001b[0;32mpandas/_libs/parsers.pyx\u001b[0m in \u001b[0;36mpandas._libs.parsers.TextReader._tokenize_rows\u001b[0;34m()\u001b[0m\n",
      "\u001b[0;32mpandas/_libs/parsers.pyx\u001b[0m in \u001b[0;36mpandas._libs.parsers.raise_parser_error\u001b[0;34m()\u001b[0m\n",
      "\u001b[0;31mParserError\u001b[0m: Error tokenizing data. C error: EOF inside string starting at row 100187"
     ]
    }
   ],
   "source": [
    "for i in range(10):\n",
    "    name = f\"../ngram_data/googlebooks-eng-1M-1gram-20090715-occonly{i}.csv\"\n",
    "    raw = pd.read_csv(name, delimiter='\\t', names=[\"1gram\", \"year\", \"occ\"], \n",
    "                      dtype={\"1gram\":str, \"year\":np.uint16, \"occ\":np.uint32})"
   ]
  },
  {
   "cell_type": "code",
   "execution_count": 55,
   "metadata": {},
   "outputs": [],
   "source": [
    "name = f\"../ngram_data/googlebooks-eng-1M-1gram-20090715-occonly0.csv\"\n",
    "raw = pd.read_csv(name, delimiter='\\t', names=[\"1gram\", \"year\", \"occ\"], \n",
    "                      dtype={\"1gram\":str, \"year\":np.uint16, \"occ\":np.uint32})"
   ]
  },
  {
   "cell_type": "code",
   "execution_count": 56,
   "metadata": {},
   "outputs": [],
   "source": [
    "years = np.array(raw[\"year\"])\n",
    "counts = np.array(raw[\"occ\"])\n",
    "\n",
    "# break up each word into its own sub-array\n",
    "shifted = np.hstack((raw[\"1gram\"][1:], [\"this has a space in it so will match nothing\"]))\n",
    "inds = np.where(raw[\"1gram\"] != shifted)[0] + 1\n",
    "\n",
    "years_each_word = np.split(years, inds)\n",
    "counts_each_word = np.split(counts, inds)"
   ]
  },
  {
   "cell_type": "code",
   "execution_count": 77,
   "metadata": {},
   "outputs": [],
   "source": [
    "# fill in zeroes on skipped years\n",
    "min_year = np.min(years)\n",
    "max_year = np.max(years)\n",
    "\n",
    "full_years = np.arange(min_year, max_year+1)\n",
    "\n",
    "# axes (word, year)\n",
    "full_counts_each_word = np.zeros((len(years_each_word), full_years.size), dtype=np.int32)\n",
    "\n",
    "for i in range(len(years_each_word)):\n",
    "    for j in range(len(years_each_word[i])):\n",
    "        ind = np.where(years_each_word[i][j] == full_years)[0][0]\n",
    "        full_counts_each_word[i, ind] += counts_each_word[i][j]"
   ]
  },
  {
   "cell_type": "code",
   "execution_count": 86,
   "metadata": {},
   "outputs": [],
   "source": [
    "# write to file in same order as read\n",
    "\n",
    "outfile = \"../ngram_data/test.csv\"\n",
    "\n",
    "with open(outfile, 'ba') as f:\n",
    "    np.savetxt(f, full_counts_each_word, fmt='%u', delimiter=',')"
   ]
  }
 ],
 "metadata": {
  "kernelspec": {
   "display_name": "Python 3",
   "language": "python",
   "name": "python3"
  },
  "language_info": {
   "codemirror_mode": {
    "name": "ipython",
    "version": 3
   },
   "file_extension": ".py",
   "mimetype": "text/x-python",
   "name": "python",
   "nbconvert_exporter": "python",
   "pygments_lexer": "ipython3",
   "version": "3.6.9"
  }
 },
 "nbformat": 4,
 "nbformat_minor": 4
}
