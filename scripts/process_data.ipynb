{
 "cells": [
  {
   "cell_type": "code",
   "execution_count": 2,
   "metadata": {},
   "outputs": [],
   "source": [
    "import numpy as np\n",
    "import pandas as pd"
   ]
  },
  {
   "cell_type": "code",
   "execution_count": 45,
   "metadata": {},
   "outputs": [],
   "source": [
    "def reformat(infile, outfile, dictfile):\n",
    "    \n",
    "    raw = pd.read_csv(infile, delimiter='\\t', names=[\"1gram\", \"year\", \"occ\"], \n",
    "                      converters={\"1gram\":lambda x: str(x), \"year\":lambda x: int(x), \"occ\":lambda x: int(x)},\n",
    "                      engine='c', quoting=3, encoding='latin-1')\n",
    "    \n",
    "    # break up each word into its own sub-array\n",
    "    break_inds = np.where(raw[\"1gram\"] != np.roll(raw[\"1gram\"], 1))[0][1:]\n",
    "    \n",
    "    # only use data from words without \"wacky\" characters\n",
    "    usable_inds = []\n",
    "    for index in break_inds:\n",
    "        if raw[\"1gram\"][index] == raw[\"1gram\"][index].encode(\"latin-1\").decode(\"utf-8\"):\n",
    "            usable_inds.append(index)\n",
    "    \n",
    "    if outfile:\n",
    "        # writing the counts for each word\n",
    "        years = np.array(raw[\"year\"])\n",
    "        counts = np.array(raw[\"occ\"])\n",
    "\n",
    "        years_each_word = np.split(years, usable_inds)\n",
    "        counts_each_word = np.split(counts, usable_inds)\n",
    "    \n",
    "        # fill in zeroes on skipped years\n",
    "        #min_year = np.min(years)\n",
    "        min_year = 1800\n",
    "        max_year = np.max(years)\n",
    "\n",
    "        full_years = np.arange(min_year, max_year+1)\n",
    "\n",
    "        # axes (word, year)\n",
    "        # try filling with 1 not 0...\n",
    "        full_counts_each_word = np.zeros((len(counts_each_word), full_years.size), dtype=np.int32)\n",
    "\n",
    "        # not ideal, but only have to run this once...\n",
    "        for i in range(len(years_each_word)):\n",
    "            # for every word's subarray\n",
    "\n",
    "            for j in range(len(years_each_word[i])):\n",
    "                # for every count in that subarray\n",
    "                if years_each_word[i][j] < min_year:\n",
    "                    continue\n",
    "                ind = np.where(years_each_word[i][j] == full_years)[0][0]\n",
    "                full_counts_each_word[i, ind] = counts_each_word[i][j]\n",
    "\n",
    "        # write counts\n",
    "        with open(outfile, 'ba') as f:\n",
    "            np.savetxt(f, full_counts_each_word, fmt='%u', delimiter=',')\n",
    "    \n",
    "    if dictfile:\n",
    "\n",
    "        unique_words = np.array(raw[\"1gram\"])[usable_inds]\n",
    "        unique_words = np.hstack((raw[\"1gram\"].head(1), unique_words))\n",
    "        \n",
    "        print(unique_words)\n",
    "\n",
    "        # write words to ordered \"dictionary\"\n",
    "        with open(dictfile, 'a+') as f:\n",
    "            for word in unique_words:\n",
    "                f.write(word)\n",
    "                f.write('\\n')"
   ]
  },
  {
   "cell_type": "code",
   "execution_count": 46,
   "metadata": {},
   "outputs": [
    {
     "name": "stdout",
     "output_type": "stream",
     "text": [
      "['#' '$0.000' '$0.003' ... 'zzy' 'zzz' 'zzzzzzzz']\n",
      "0\n",
      "['$' '$0.001' '$0.011' ... 'zzl' 'zzviii' 'zzzzzzz']\n",
      "1\n",
      "['$0.007' '$0.0075' '$0.026' ... 'zz8' 'zzs' 'zzzzz']\n",
      "2\n",
      "['$0.00' '$0.006' '$0.01' ... 'zzx' 'zzzii' '{']\n",
      "3\n",
      "['$0.002' '$0.004' '$0.008' ... 'zzt' 'zzzi' 'zzziii']\n",
      "4\n",
      "['$0.0' '$0.057' '$0.058' ... 'zzo' 'zzxiii' 'zzzzzzzzzz']\n",
      "5\n",
      "['$0.0005' '$0.009' '$0.013' ... 'zythos' 'zziz' 'zzzz']\n",
      "6\n",
      "['$0' '$0.015' '$0.023' ... 'zzr' 'zzzzzzzzz' '|']\n",
      "7\n",
      "['\"\"\"ê\\x11\"' '$0.0025' '$0.005' ... 'zzled' 'zzvi' 'zzxi']\n",
      "8\n",
      "['!' '$0.017' '$0.042' ... 'zzzzzz' '}' '~']\n",
      "9\n"
     ]
    }
   ],
   "source": [
    "outfile = \"../ngram_data/full_counts_1800.csv\"\n",
    "dictfile = \"../ngram_data/py_dict_1800.txt\"\n",
    "for i in range(10):\n",
    "    name = f\"../ngram_data/googlebooks-eng-1M-1gram-20090715-occonly{i}.csv\"\n",
    "    reformat(name, False, dictfile)\n",
    "    print(i)"
   ]
  }
 ],
 "metadata": {
  "kernelspec": {
   "display_name": "Python 3",
   "language": "python",
   "name": "python3"
  },
  "language_info": {
   "codemirror_mode": {
    "name": "ipython",
    "version": 3
   },
   "file_extension": ".py",
   "mimetype": "text/x-python",
   "name": "python",
   "nbconvert_exporter": "python",
   "pygments_lexer": "ipython3",
   "version": "3.6.9"
  }
 },
 "nbformat": 4,
 "nbformat_minor": 4
}
