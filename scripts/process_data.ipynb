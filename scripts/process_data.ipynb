{
 "cells": [
  {
   "cell_type": "code",
   "execution_count": 1,
   "metadata": {},
   "outputs": [],
   "source": [
    "import numpy as np\n",
    "import pandas as pd"
   ]
  },
  {
   "cell_type": "code",
   "execution_count": 95,
   "metadata": {},
   "outputs": [],
   "source": [
    "def reformat(infile, outfile):\n",
    "    raw = pd.read_csv(infile, delimiter='\\t', names=[\"1gram\", \"year\", \"occ\"], \n",
    "                      dtype={\"1gram\":str, \"year\":np.uint16, \"occ\":np.uint32}, engine='c', quoting=3, encoding='latin-1')\n",
    "    years = np.array(raw[\"year\"])\n",
    "    counts = np.array(raw[\"occ\"])\n",
    "\n",
    "    # break up each word into its own sub-array\n",
    "    shifted = np.hstack((raw[\"1gram\"][1:], [\"this has a space in it so will match nothing\"]))\n",
    "    inds = np.where(raw[\"1gram\"] != shifted)[0] + 1\n",
    "\n",
    "    years_each_word = np.split(years, inds)\n",
    "    counts_each_word = np.split(counts, inds)\n",
    "    \n",
    "    # fill in zeroes on skipped years\n",
    "    min_year = np.min(years)\n",
    "    max_year = np.max(years)\n",
    "\n",
    "    full_years = np.arange(min_year, max_year+1)\n",
    "\n",
    "    # axes (word, year)\n",
    "    full_counts_each_word = np.zeros((len(years_each_word), full_years.size), dtype=np.int32)\n",
    "\n",
    "    # not ideal, but only have to run this once...\n",
    "    # possibly do this whole thing in C instead\n",
    "    for i in range(len(years_each_word)):\n",
    "        for j in range(len(years_each_word[i])):\n",
    "            ind = np.where(years_each_word[i][j] == full_years)[0][0]\n",
    "            full_counts_each_word[i, ind] += counts_each_word[i][j]\n",
    "            \n",
    "    with open(outfile, 'ba') as f:\n",
    "        np.savetxt(f, full_counts_each_word, fmt='%u', delimiter=',')"
   ]
  },
  {
   "cell_type": "code",
   "execution_count": 96,
   "metadata": {},
   "outputs": [
    {
     "name": "stdout",
     "output_type": "stream",
     "text": [
      "0\n",
      "1\n",
      "2\n",
      "3\n",
      "4\n",
      "5\n",
      "6\n",
      "7\n",
      "8\n",
      "9\n"
     ]
    }
   ],
   "source": [
    "outfile = \"../ngram_data/full_counts.csv\"\n",
    "for i in range(10):\n",
    "    name = f\"../ngram_data/googlebooks-eng-1M-1gram-20090715-occonly{i}.csv\"\n",
    "    reformat(name, outfile)\n",
    "    print(i)"
   ]
  },
  {
   "cell_type": "code",
   "execution_count": 55,
   "metadata": {},
   "outputs": [],
   "source": [
    "name = f\"../ngram_data/googlebooks-eng-1M-1gram-20090715-occonly0.csv\"\n",
    "raw = pd.read_csv(name, delimiter='\\t', names=[\"1gram\", \"year\", \"occ\"], \n",
    "                      dtype={\"1gram\":str, \"year\":np.uint16, \"occ\":np.uint32})"
   ]
  },
  {
   "cell_type": "code",
   "execution_count": 56,
   "metadata": {},
   "outputs": [],
   "source": [
    "years = np.array(raw[\"year\"])\n",
    "counts = np.array(raw[\"occ\"])\n",
    "\n",
    "# break up each word into its own sub-array\n",
    "shifted = np.hstack((raw[\"1gram\"][1:], [\"this has a space in it so will match nothing\"]))\n",
    "inds = np.where(raw[\"1gram\"] != shifted)[0] + 1\n",
    "\n",
    "years_each_word = np.split(years, inds)\n",
    "counts_each_word = np.split(counts, inds)"
   ]
  },
  {
   "cell_type": "code",
   "execution_count": 77,
   "metadata": {},
   "outputs": [],
   "source": [
    "# fill in zeroes on skipped years\n",
    "min_year = np.min(years)\n",
    "max_year = np.max(years)\n",
    "\n",
    "full_years = np.arange(min_year, max_year+1)\n",
    "\n",
    "# axes (word, year)\n",
    "full_counts_each_word = np.zeros((len(years_each_word), full_years.size), dtype=np.int32)\n",
    "\n",
    "for i in range(len(years_each_word)):\n",
    "    for j in range(len(years_each_word[i])):\n",
    "        ind = np.where(years_each_word[i][j] == full_years)[0][0]\n",
    "        full_counts_each_word[i, ind] += counts_each_word[i][j]"
   ]
  },
  {
   "cell_type": "code",
   "execution_count": 86,
   "metadata": {},
   "outputs": [],
   "source": [
    "# write to file in same order as read\n",
    "\n",
    "outfile = \"../ngram_data/test.csv\"\n",
    "\n",
    "with open(outfile, 'ba') as f:\n",
    "    np.savetxt(f, full_counts_each_word, fmt='%u', delimiter=',')"
   ]
  }
 ],
 "metadata": {
  "kernelspec": {
   "display_name": "Python 3",
   "language": "python",
   "name": "python3"
  },
  "language_info": {
   "codemirror_mode": {
    "name": "ipython",
    "version": 3
   },
   "file_extension": ".py",
   "mimetype": "text/x-python",
   "name": "python",
   "nbconvert_exporter": "python",
   "pygments_lexer": "ipython3",
   "version": "3.6.9"
  }
 },
 "nbformat": 4,
 "nbformat_minor": 4
}
